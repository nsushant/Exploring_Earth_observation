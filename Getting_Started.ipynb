{
 "cells": [
  {
   "cell_type": "markdown",
   "id": "67718765",
   "metadata": {},
   "source": [
    "# Getting Started "
   ]
  },
  {
   "cell_type": "markdown",
   "id": "983e5e4a",
   "metadata": {},
   "source": [
    "Jupyter notebooks aimed at learning about google's earth engine and understanding its land monitoring capabilities. We start by setting up the Python client and initializing it so that the client library is populated with methods that the backend server supports. The guide I'm using can be found at https://developers.google.com/earth-engine/guides"
   ]
  },
  {
   "cell_type": "code",
   "execution_count": 5,
   "id": "9a53057f",
   "metadata": {},
   "outputs": [],
   "source": [
    "import ee"
   ]
  },
  {
   "cell_type": "code",
   "execution_count": null,
   "id": "2402c852",
   "metadata": {
    "scrolled": false
   },
   "outputs": [],
   "source": [
    "%%capture captured_output\n",
    "ee.Authenticate()"
   ]
  },
  {
   "cell_type": "code",
   "execution_count": 7,
   "id": "f3591c45",
   "metadata": {},
   "outputs": [],
   "source": [
    "ee.Initialize()"
   ]
  },
  {
   "cell_type": "markdown",
   "id": "3109ed1c",
   "metadata": {},
   "source": [
    "Dates in ee or earth engine can be converted from 'YYYY-MM-DD' to milliseconds using ee.date('YYYY-MM-DD'). Thereafter the python datetime module is used to convert from an ee.Date object to a python datetime object. "
   ]
  },
  {
   "cell_type": "code",
   "execution_count": 8,
   "id": "2d8cd60c",
   "metadata": {},
   "outputs": [],
   "source": [
    "import datetime"
   ]
  },
  {
   "cell_type": "code",
   "execution_count": 9,
   "id": "54cb991f",
   "metadata": {},
   "outputs": [],
   "source": [
    "def convert_ee_to_datetime(YYYY_MM_DD):\n",
    "    if (type(YYYY_MM_DD) != str): \n",
    "        print(\"Input must be a string of form YYYY-MM-DD\")\n",
    "        print(\"you have currently provided input of type \" + str(type(YYYY_MM_DD)))\n",
    "        \n",
    "    ee_date = ee.Date(YYYY_MM_DD)\n",
    "    py_date = datetime.datetime.utcfromtimestamp(ee_date.getInfo()['value']/1000.0)\n",
    "    return py_date "
   ]
  },
  {
   "cell_type": "code",
   "execution_count": 10,
   "id": "5477b460",
   "metadata": {},
   "outputs": [],
   "source": [
    "def convert_datetime_to_ee(py_date):\n",
    "    if (type(YYYY_MM_DD) != str): \n",
    "        print(\"Input must be a string of form YYYY-MM-DD\") \n",
    "        print(\"you have currently provided input of type \" + str(type(py_date)))\n",
    "    ee_date = ee.Date(py_date)\n",
    "    return ee_date"
   ]
  },
  {
   "cell_type": "markdown",
   "id": "e3069bd9",
   "metadata": {},
   "source": [
    "## Loading-in Images"
   ]
  },
  {
   "cell_type": "markdown",
   "id": "15b3acd7",
   "metadata": {},
   "source": [
    "Now for some images. The earth engine ee.Image() constructor allows you to create an Image object that can be a raster image or a collection of images. \n",
    "\n",
    "But what is a raster image ? The AI generated response below explains this concept well. \n",
    "\n",
    "A raster image is a type of digital image that is composed of a grid or matrix of pixels, where each pixel represents a discrete value or color. In contrast to vector graphics, which are based on mathematical equations to represent shapes, raster images are based on a grid of individual picture elements.\n",
    "\n",
    "Key characteristics of raster images include:\n",
    "\n",
    "Pixels: The basic building blocks of a raster image are pixels, which are small square or rectangular elements arranged in a grid. Each pixel contains information about the color or intensity of the image at that specific location.\n",
    "\n",
    "Resolution: The resolution of a raster image is determined by the number of pixels in the horizontal and vertical dimensions. Higher resolution images have more pixels and can represent more detail, but they also require more storage space and processing power.\n",
    "\n",
    "Color Depth: Raster images can be grayscale (one channel), or they can have multiple color channels (e.g., red, green, and blue for a color image). The number of bits used to represent each pixel's color value determines the color depth and the range of colors that can be represented.\n",
    "\n",
    "File Formats: Common file formats for raster images include JPEG, PNG, TIFF, and BMP. Each format has its own characteristics and is suitable for different types of images and applications.\n",
    "Photographic Realism: Raster images are well-suited for representing photographic and continuous-tone images, such as photographs and detailed graphics. They are not as well-suited for representing sharp, scalable shapes, which is a strength of vector graphics.\n",
    "\n",
    "\n",
    "These images are particularly effective at representing complex scenes with continuous tones and intricate details. However, raster images can suffer from pixelation when enlarged, and their file sizes can become large, especially at high resolutions."
   ]
  },
  {
   "cell_type": "markdown",
   "id": "78b6758e",
   "metadata": {},
   "source": [
    "the string input 'JAXA/ALOS/AW3D30/V2_2' is the asset ID for an image, we can obtain this id from the data catalogue available at https://developers.google.com/earth-engine/datasets"
   ]
  },
  {
   "cell_type": "code",
   "execution_count": 11,
   "id": "28070d75",
   "metadata": {},
   "outputs": [],
   "source": [
    "# img.getInfo() will fetch the meta-data and convert it to a python dict \n",
    "# img will print instructions to access/retrieve the image directly \n",
    "\n",
    "img = ee.Image('JAXA/ALOS/AW3D30/V2_2')"
   ]
  },
  {
   "cell_type": "markdown",
   "id": "ed211d01",
   "metadata": {},
   "source": [
    "To view images we use geemap. Basically geemap's 'map' object contains a map of the Earth, the code below allows us to look at an image added from earth engine as a layer on that 'map' object."
   ]
  },
  {
   "cell_type": "code",
   "execution_count": 12,
   "id": "d8d936b3",
   "metadata": {},
   "outputs": [],
   "source": [
    "import geemap.core as geemap"
   ]
  },
  {
   "cell_type": "code",
   "execution_count": null,
   "id": "e5b55c15",
   "metadata": {},
   "outputs": [],
   "source": [
    "#!jupyter nbextension enable --py widgetsnbextension"
   ]
  },
  {
   "cell_type": "code",
   "execution_count": 13,
   "id": "4b0cf284",
   "metadata": {
    "scrolled": true
   },
   "outputs": [
    {
     "data": {
      "text/html": [
       "\n",
       "            <style>\n",
       "                .geemap-dark {\n",
       "                    --jp-widgets-color: white;\n",
       "                    --jp-widgets-label-color: white;\n",
       "                    --jp-ui-font-color1: white;\n",
       "                    --jp-layout-color2: #454545;\n",
       "                    background-color: #383838;\n",
       "                }\n",
       "                    \n",
       "                .geemap-dark .jupyter-button {\n",
       "                    --jp-layout-color3: #383838;\n",
       "                }\n",
       "                \n",
       "                .geemap-colab {\n",
       "                    background-color: var(--colab-primary-surface-color, white);\n",
       "                }\n",
       "                    \n",
       "                .geemap-colab .jupyter-button {\n",
       "                    --jp-layout-color3: var(--colab-primary-surface-color, white);\n",
       "                }\n",
       "            </style>\n",
       "            "
      ],
      "text/plain": [
       "<IPython.core.display.HTML object>"
      ]
     },
     "metadata": {},
     "output_type": "display_data"
    },
    {
     "data": {
      "application/vnd.jupyter.widget-view+json": {
       "model_id": "d47fbfdd17374ef38433f48fa80ed9ee",
       "version_major": 2,
       "version_minor": 0
      },
      "text/plain": [
       "Map(center=[0, 0], controls=(ZoomControl(options=['position', 'zoom_in_text', 'zoom_in_title', 'zoom_out_text'…"
      ]
     },
     "metadata": {},
     "output_type": "display_data"
    }
   ],
   "source": [
    "%matplotlib notebook\n",
    "\n",
    "# Initialize a map object.\n",
    "m = geemap.Map()\n",
    "\n",
    "# Add the image to the map.\n",
    "m.add_layer(img, None, 'Random image')\n",
    "\n",
    "# Display the map (you can call the object directly if it is the final line).\n",
    "display(m)"
   ]
  },
  {
   "cell_type": "markdown",
   "id": "e8e1ebf4",
   "metadata": {},
   "source": [
    "We can also load images in from collections. The snippet below is from the Sentinel-2 MSI: MultiSpectral Instrument, Level-2A. More details available at https://developers.google.com/earth-engine/datasets/catalog/COPERNICUS_S2_SR"
   ]
  },
  {
   "cell_type": "code",
   "execution_count": 14,
   "id": "dcbd6a8c",
   "metadata": {
    "scrolled": false
   },
   "outputs": [
    {
     "data": {
      "text/html": [
       "\n",
       "            <style>\n",
       "                .geemap-dark {\n",
       "                    --jp-widgets-color: white;\n",
       "                    --jp-widgets-label-color: white;\n",
       "                    --jp-ui-font-color1: white;\n",
       "                    --jp-layout-color2: #454545;\n",
       "                    background-color: #383838;\n",
       "                }\n",
       "                    \n",
       "                .geemap-dark .jupyter-button {\n",
       "                    --jp-layout-color3: #383838;\n",
       "                }\n",
       "                \n",
       "                .geemap-colab {\n",
       "                    background-color: var(--colab-primary-surface-color, white);\n",
       "                }\n",
       "                    \n",
       "                .geemap-colab .jupyter-button {\n",
       "                    --jp-layout-color3: var(--colab-primary-surface-color, white);\n",
       "                }\n",
       "            </style>\n",
       "            "
      ],
      "text/plain": [
       "<IPython.core.display.HTML object>"
      ]
     },
     "metadata": {},
     "output_type": "display_data"
    },
    {
     "data": {
      "application/vnd.jupyter.widget-view+json": {
       "model_id": "d2631c6c201e4da0badc794601776197",
       "version_major": 2,
       "version_minor": 0
      },
      "text/plain": [
       "Map(center=[43.7516, -70.8155], controls=(ZoomControl(options=['position', 'zoom_in_text', 'zoom_in_title', 'z…"
      ]
     },
     "metadata": {},
     "output_type": "display_data"
    }
   ],
   "source": [
    "first = (\n",
    "    ee.ImageCollection('COPERNICUS/S2_SR')\n",
    "    .filterBounds(ee.Geometry.Point(-70.48, 43.3631))\n",
    "    .filterDate('2019-01-01', '2019-12-31')\n",
    "    .sort('CLOUDY_PIXEL_PERCENTAGE')\n",
    "    .first()\n",
    ")\n",
    "\n",
    "# Define a map centered on southern Maine.\n",
    "m = geemap.Map(center=[43.7516, -70.8155], zoom=11)\n",
    "\n",
    "# Add the image layer to the map and display it.\n",
    "m.add_layer(\n",
    "    first, {'bands': ['B4', 'B3', 'B2'], 'min': 0, 'max': 2000}, 'first'\n",
    ")\n",
    "display(m)"
   ]
  }
 ],
 "metadata": {
  "kernelspec": {
   "display_name": "Python 3 (ipykernel)",
   "language": "python",
   "name": "python3"
  },
  "language_info": {
   "codemirror_mode": {
    "name": "ipython",
    "version": 3
   },
   "file_extension": ".py",
   "mimetype": "text/x-python",
   "name": "python",
   "nbconvert_exporter": "python",
   "pygments_lexer": "ipython3",
   "version": "3.9.12"
  }
 },
 "nbformat": 4,
 "nbformat_minor": 5
}
