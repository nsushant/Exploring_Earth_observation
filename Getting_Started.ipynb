{
 "cells": [
  {
   "cell_type": "markdown",
   "id": "67718765",
   "metadata": {},
   "source": [
    "# Getting Started "
   ]
  },
  {
   "cell_type": "markdown",
   "id": "983e5e4a",
   "metadata": {},
   "source": [
    "Jupyter notebooks aimed at learning about google's earth engine and understanding its land monitoring capabilities. We start by setting up the Python client and initializing it so that the client library is populated with methods that the backend server supports. The guide I'm using can be found at https://developers.google.com/earth-engine/guides\n",
    "\n",
    "If you are new to earth observation, like me, then maybe my parallel exploration of the more conceptual rather than programatic side may also prove useful. It can be found in the 'understanding_concepts' document in the https://github.com/nsushant/Exploring_Earth_observation.git repo. "
   ]
  },
  {
   "cell_type": "code",
   "execution_count": 2,
   "id": "9a53057f",
   "metadata": {},
   "outputs": [],
   "source": [
    "import ee"
   ]
  },
  {
   "cell_type": "code",
   "execution_count": 3,
   "id": "2402c852",
   "metadata": {
    "scrolled": false
   },
   "outputs": [
    {
     "name": "stdout",
     "output_type": "stream",
     "text": [
      "Enter verification code: 4/1AfJohXmad9KYxrhXlbvNkVe-pmMGH1DtJxQYkyXAoEYA0FDAJ9FQ5LYrxrA\n"
     ]
    }
   ],
   "source": [
    "%%capture captured_output\n",
    "ee.Authenticate()"
   ]
  },
  {
   "cell_type": "code",
   "execution_count": 4,
   "id": "f3591c45",
   "metadata": {},
   "outputs": [],
   "source": [
    "ee.Initialize()"
   ]
  },
  {
   "cell_type": "markdown",
   "id": "3109ed1c",
   "metadata": {},
   "source": [
    "Dates in ee or earth engine can be converted from 'YYYY-MM-DD' to milliseconds using ee.date('YYYY-MM-DD'). Thereafter the python datetime module is used to convert from an ee.Date object to a python datetime object. "
   ]
  },
  {
   "cell_type": "code",
   "execution_count": 5,
   "id": "2d8cd60c",
   "metadata": {},
   "outputs": [],
   "source": [
    "import datetime"
   ]
  },
  {
   "cell_type": "code",
   "execution_count": 6,
   "id": "54cb991f",
   "metadata": {},
   "outputs": [],
   "source": [
    "def convert_ee_to_datetime(YYYY_MM_DD):\n",
    "    if (type(YYYY_MM_DD) != str): \n",
    "        print(\"Input must be a string of form YYYY-MM-DD\")\n",
    "        print(\"you have currently provided input of type \" + str(type(YYYY_MM_DD)))\n",
    "        \n",
    "    ee_date = ee.Date(YYYY_MM_DD)\n",
    "    py_date = datetime.datetime.utcfromtimestamp(ee_date.getInfo()['value']/1000.0)\n",
    "    return py_date "
   ]
  },
  {
   "cell_type": "code",
   "execution_count": 7,
   "id": "5477b460",
   "metadata": {},
   "outputs": [],
   "source": [
    "def convert_datetime_to_ee(py_date):\n",
    "    if (type(YYYY_MM_DD) != str): \n",
    "        print(\"Input must be a string of form YYYY-MM-DD\") \n",
    "        print(\"you have currently provided input of type \" + str(type(py_date)))\n",
    "    ee_date = ee.Date(py_date)\n",
    "    return ee_date"
   ]
  },
  {
   "cell_type": "markdown",
   "id": "e3069bd9",
   "metadata": {},
   "source": [
    "## Loading-in Images"
   ]
  },
  {
   "cell_type": "markdown",
   "id": "15b3acd7",
   "metadata": {},
   "source": [
    "Now for some images. Raster data is represented in earth engine through Image objects. \n",
    "\n",
    "But what is a raster image ? The AI generated response below explains this concept well. \n",
    "\n",
    "A raster image is a type of digital image that is composed of a grid or matrix of pixels, where each pixel represents a discrete value or color. In contrast to vector graphics, which are based on mathematical equations to represent shapes, raster images are based on a grid of individual picture elements.\n",
    "\n",
    "Key characteristics of raster images include:\n",
    "\n",
    "Pixels: The basic building blocks of a raster image are pixels, which are small square or rectangular elements arranged in a grid. Each pixel contains information about the color or intensity of the image at that specific location.\n",
    "\n",
    "Resolution: The resolution of a raster image is determined by the number of pixels in the horizontal and vertical dimensions. Higher resolution images have more pixels and can represent more detail, but they also require more storage space and processing power.\n",
    "\n",
    "Color Depth: Raster images can be grayscale (one channel), or they can have multiple color channels (e.g., red, green, and blue for a color image). The number of bits used to represent each pixel's color value determines the color depth and the range of colors that can be represented.\n",
    "\n",
    "File Formats: Common file formats for raster images include JPEG, PNG, TIFF, and BMP. Each format has its own characteristics and is suitable for different types of images and applications.\n",
    "Photographic Realism: Raster images are well-suited for representing photographic and continuous-tone images, such as photographs and detailed graphics. They are not as well-suited for representing sharp, scalable shapes, which is a strength of vector graphics.\n",
    "\n",
    "\n",
    "These images are particularly effective at representing complex scenes with continuous tones and intricate details. However, raster images can suffer from pixelation when enlarged, and their file sizes can become large, especially at high resolutions."
   ]
  },
  {
   "cell_type": "markdown",
   "id": "78b6758e",
   "metadata": {},
   "source": [
    "the string input 'JAXA/ALOS/AW3D30/V2_2' is the asset ID for an image, we can obtain this id from the data catalogue available at https://developers.google.com/earth-engine/datasets"
   ]
  },
  {
   "cell_type": "code",
   "execution_count": 8,
   "id": "28070d75",
   "metadata": {},
   "outputs": [],
   "source": [
    "# img.getInfo() will fetch the meta-data and convert it to a python dict \n",
    "# img will print instructions to access/retrieve the image directly \n",
    "\n",
    "img = ee.Image('JAXA/ALOS/AW3D30/V2_2')"
   ]
  },
  {
   "cell_type": "markdown",
   "id": "ed211d01",
   "metadata": {},
   "source": [
    "To view images we use geemap. Basically geemap's 'map' object contains a map of the Earth, the code below allows us to look at an image added from earth engine as a layer on that 'map' object."
   ]
  },
  {
   "cell_type": "code",
   "execution_count": 9,
   "id": "d8d936b3",
   "metadata": {},
   "outputs": [],
   "source": [
    "import geemap.core as geemap"
   ]
  },
  {
   "cell_type": "code",
   "execution_count": null,
   "id": "e5b55c15",
   "metadata": {},
   "outputs": [],
   "source": [
    "#!jupyter nbextension enable --py widgetsnbextension"
   ]
  },
  {
   "cell_type": "code",
   "execution_count": 11,
   "id": "4b0cf284",
   "metadata": {
    "scrolled": true
   },
   "outputs": [
    {
     "data": {
      "text/html": [
       "\n",
       "            <style>\n",
       "                .geemap-dark {\n",
       "                    --jp-widgets-color: white;\n",
       "                    --jp-widgets-label-color: white;\n",
       "                    --jp-ui-font-color1: white;\n",
       "                    --jp-layout-color2: #454545;\n",
       "                    background-color: #383838;\n",
       "                }\n",
       "                    \n",
       "                .geemap-dark .jupyter-button {\n",
       "                    --jp-layout-color3: #383838;\n",
       "                }\n",
       "                \n",
       "                .geemap-colab {\n",
       "                    background-color: var(--colab-primary-surface-color, white);\n",
       "                }\n",
       "                    \n",
       "                .geemap-colab .jupyter-button {\n",
       "                    --jp-layout-color3: var(--colab-primary-surface-color, white);\n",
       "                }\n",
       "            </style>\n",
       "            "
      ],
      "text/plain": [
       "<IPython.core.display.HTML object>"
      ]
     },
     "metadata": {},
     "output_type": "display_data"
    },
    {
     "data": {
      "application/vnd.jupyter.widget-view+json": {
       "model_id": "9626dafec13a4644b9ea7c5eb03cbe54",
       "version_major": 2,
       "version_minor": 0
      },
      "text/plain": [
       "Map(center=[0, 0], controls=(ZoomControl(options=['position', 'zoom_in_text', 'zoom_in_title', 'zoom_out_text'…"
      ]
     },
     "metadata": {},
     "output_type": "display_data"
    }
   ],
   "source": [
    "%matplotlib notebook\n",
    "\n",
    "# Initialize a map object.\n",
    "m = geemap.Map()\n",
    "\n",
    "# Add the image to the map.\n",
    "m.add_layer(img, None, 'Random image')\n",
    "\n",
    "# Display the map (you can call the object directly if it is the final line).\n",
    "display(m)"
   ]
  },
  {
   "cell_type": "markdown",
   "id": "92b7f676",
   "metadata": {},
   "source": [
    "# Geometry Objects"
   ]
  },
  {
   "cell_type": "markdown",
   "id": "7878c049",
   "metadata": {},
   "source": [
    "\n",
    "\n",
    "Geometry objects basically allow you to handle vectors in earth engine, like coordinates or lists. These objects can be of the following types - \n",
    "\n",
    "list taken from docs at https://developers.google.com/earth-engine/guides/geometries\n",
    "\n",
    "Point (a list of coordinates in some projection) \n",
    "\n",
    "LineString (a list of points) \n",
    "\n",
    "LinearRing (a closed LineString)\n",
    "\n",
    "Polygon (a list of LinearRings where the first is a shell and subsequent rings are holes). \n",
    "\n",
    "Earth Engine also supports MultiPoint, MultiLineString, and MultiPolygon"
   ]
  },
  {
   "cell_type": "markdown",
   "id": "6ed66960",
   "metadata": {},
   "source": [
    "## Geodesic Geometries\n",
    "\n",
    "since the earth is closer to a sphere in its shape than a falt sheet of paper (or more specifically a 2D plane), there is no good way to accurately represent the features of our globe with a flat or 'planar'/Euclidean coordinate system. But how do you work within a non-euclidean coordinate system that is - suppose - spherical ?  \n",
    "\n",
    "Well straight lines are the shortest paths between points on a flat 2D plane. But on a sphere, the paths between two points take the form of curve. A 'geodesic' is basically the shortest curve between two points. \n",
    "\n",
    "See fig 1. at https://developers.google.com/earth-engine/guides/geometries_planar_geodesic to see the difference. Now, earth engine by default uses this non-euclidean coordinate system where we use curves to represent shortest distances. "
   ]
  },
  {
   "cell_type": "markdown",
   "id": "114f2176",
   "metadata": {},
   "source": [
    "On the Earth this coordinate system of curves is found in the form of longitudes and latitudes. Latitudes measure how far north or south of the Equator you are (so they are curves that run horizontally along the surface of a globe). Longitudes are measurements of how far east or west you are of the prime meridian at Greenwich (shortest curves between the north and south poles). "
   ]
  },
  {
   "cell_type": "markdown",
   "id": "b940b026",
   "metadata": {},
   "source": [
    "# Putting it all together with collections "
   ]
  },
  {
   "cell_type": "markdown",
   "id": "e8e1ebf4",
   "metadata": {},
   "source": [
    "We can also load images in from collections. The snippet below is from the Sentinel-2 MSI: MultiSpectral Instrument, Level-2A. More details available at https://developers.google.com/earth-engine/datasets/catalog/COPERNICUS_S2_SR."
   ]
  },
  {
   "cell_type": "markdown",
   "id": "c4ba4e95",
   "metadata": {},
   "source": [
    "The most efficient way to get images out of a collection is to use filters (applied in order of decreasing specificity - specific region then date, etc.)"
   ]
  },
  {
   "cell_type": "code",
   "execution_count": 25,
   "id": "dcbd6a8c",
   "metadata": {
    "scrolled": false
   },
   "outputs": [
    {
     "data": {
      "text/html": [
       "\n",
       "            <style>\n",
       "                .geemap-dark {\n",
       "                    --jp-widgets-color: white;\n",
       "                    --jp-widgets-label-color: white;\n",
       "                    --jp-ui-font-color1: white;\n",
       "                    --jp-layout-color2: #454545;\n",
       "                    background-color: #383838;\n",
       "                }\n",
       "                    \n",
       "                .geemap-dark .jupyter-button {\n",
       "                    --jp-layout-color3: #383838;\n",
       "                }\n",
       "                \n",
       "                .geemap-colab {\n",
       "                    background-color: var(--colab-primary-surface-color, white);\n",
       "                }\n",
       "                    \n",
       "                .geemap-colab .jupyter-button {\n",
       "                    --jp-layout-color3: var(--colab-primary-surface-color, white);\n",
       "                }\n",
       "            </style>\n",
       "            "
      ],
      "text/plain": [
       "<IPython.core.display.HTML object>"
      ]
     },
     "metadata": {},
     "output_type": "display_data"
    },
    {
     "data": {
      "application/vnd.jupyter.widget-view+json": {
       "model_id": "aee491be6bf3467a8a907700814c0f6f",
       "version_major": 2,
       "version_minor": 0
      },
      "text/plain": [
       "Map(center=[18.516726, 73.856255], controls=(ZoomControl(options=['position', 'zoom_in_text', 'zoom_in_title',…"
      ]
     },
     "metadata": {},
     "output_type": "display_data"
    }
   ],
   "source": [
    "\n",
    "# latitude = 18.516726, longitude = 73.856255 -> coords for Pune, Maharashtra, India.\n",
    "# ee.ImageCollection('COPERNICUS/S2_SR') simply loads the collection in, \n",
    "# The filters here go from exact coordinates -> dates -> some less specific filters \n",
    "\n",
    "# Geometry.Point objects take input coordinates in the form of (longitude, latitude)\n",
    "first = (\n",
    "    ee.ImageCollection('COPERNICUS/S2_SR')\n",
    "    .filterBounds(ee.Geometry.Point(73.8567,18.5204))\n",
    "    .filterDate('2020-01-01', '2020-12-31')\n",
    "    .sort('CLOUDY_PIXEL_PERCENTAGE')\n",
    "    .first()\n",
    ")\n",
    "\n",
    "# Define a map centered on Pune, Maharashtra, India.\n",
    "# here first number is the latitude, and the second number is the longitude. so center = (latitude,longitude)\n",
    "m = geemap.Map(center=[18.516726,73.856255], zoom=11)\n",
    "\n",
    "# Add the image layer to the map and display it.\n",
    "m.add_layer(\n",
    "    first, {'bands': ['B4', 'B3', 'B2'], 'min': 0, 'max': 2000}, 'first'\n",
    ")\n",
    "display(m)"
   ]
  },
  {
   "cell_type": "code",
   "execution_count": null,
   "id": "886b5426",
   "metadata": {},
   "outputs": [],
   "source": []
  }
 ],
 "metadata": {
  "kernelspec": {
   "display_name": "Python 3 (ipykernel)",
   "language": "python",
   "name": "python3"
  },
  "language_info": {
   "codemirror_mode": {
    "name": "ipython",
    "version": 3
   },
   "file_extension": ".py",
   "mimetype": "text/x-python",
   "name": "python",
   "nbconvert_exporter": "python",
   "pygments_lexer": "ipython3",
   "version": "3.9.12"
  }
 },
 "nbformat": 4,
 "nbformat_minor": 5
}
