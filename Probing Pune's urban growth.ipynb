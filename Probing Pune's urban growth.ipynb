{
 "cells": [
  {
   "cell_type": "markdown",
   "id": "26578f69",
   "metadata": {},
   "source": [
    "# Probing Pune's Urban Growth \n",
    "\n",
    "This notebook seeks to use the methods for data access explored in the 'getting started' notebook to make a movie mapping the urban growth of Pune. Why do I want to do so ? the city has developments ranging from a full metro transport system as well as IT parks emerging and it would be good to get some indication of the impact on vegetation these developments have had.  "
   ]
  },
  {
   "cell_type": "code",
   "execution_count": 1,
   "id": "a8632e2e",
   "metadata": {},
   "outputs": [],
   "source": [
    "import ee"
   ]
  },
  {
   "cell_type": "code",
   "execution_count": 2,
   "id": "54e42a45",
   "metadata": {},
   "outputs": [
    {
     "name": "stdout",
     "output_type": "stream",
     "text": [
      "Enter verification code: 4/1AfJohXnsqYcRe-svNDCIeGHR85A2XbB032fIkvUhV-lpCYZXZhsmll8rsGA\n"
     ]
    }
   ],
   "source": [
    "%%capture captured_output\n",
    "ee.Authenticate()"
   ]
  },
  {
   "cell_type": "code",
   "execution_count": 3,
   "id": "06d89a0e",
   "metadata": {},
   "outputs": [],
   "source": [
    "ee.Initialize()"
   ]
  },
  {
   "cell_type": "code",
   "execution_count": 4,
   "id": "658baa5f",
   "metadata": {},
   "outputs": [],
   "source": [
    "# defining our points of interest for this investigation \n",
    "\n",
    "geo_Pune = ee.Geometry.Point(73.8567,18.5204)\n",
    "geo_BhosleNagar = ee.Geometry.Point(73.8357,18.5442)"
   ]
  },
  {
   "cell_type": "markdown",
   "id": "55b4160e",
   "metadata": {},
   "source": [
    "Lets start off by using LANDSAT-8 data. Its Multispectral data with both, cloud penetrating near infra-red bands and visible bands.  "
   ]
  },
  {
   "cell_type": "code",
   "execution_count": 8,
   "id": "f79f2c09",
   "metadata": {},
   "outputs": [],
   "source": [
    "Image_collection = ee.ImageCollection(\"LANDSAT/LC08/C02/T1_L2\").filterBounds(ee.Geometry.Point(73.8567,18.5204)).filterDate('2017-05-01', '2023-01-01')"
   ]
  },
  {
   "cell_type": "code",
   "execution_count": 9,
   "id": "7137decd",
   "metadata": {},
   "outputs": [],
   "source": [
    "# we now need to apply some corrections (scaling factors), the function def is available at \n",
    "#https://developers.google.com/earth-engine/datasets/catalog/LANDSAT_LC08_C02_T1_L2#colab-python\n",
    "\n",
    "\n",
    "def apply_scale_factors(image):\n",
    "    optical_bands = image.select('SR_B.').multiply(0.0000275).add(-0.2)\n",
    "    thermal_bands = image.select('ST_B.*').multiply(0.00341802).add(149.0)\n",
    "    return image.addBands(optical_bands, None, True).addBands(thermal_bands, None, True)\n",
    "\n",
    "\n",
    "Image_collection = Image_collection.map(apply_scale_factors)\n",
    "\n"
   ]
  },
  {
   "cell_type": "markdown",
   "id": "518d590e",
   "metadata": {},
   "source": [
    "To ensure that wwe have the right region lets just look at a few images using geemap"
   ]
  },
  {
   "cell_type": "code",
   "execution_count": 11,
   "id": "f488cfc9",
   "metadata": {},
   "outputs": [],
   "source": [
    "import geemap.core as geemap"
   ]
  },
  {
   "cell_type": "code",
   "execution_count": 14,
   "id": "8cc10f12",
   "metadata": {},
   "outputs": [
    {
     "data": {
      "text/html": [
       "\n",
       "            <style>\n",
       "                .geemap-dark {\n",
       "                    --jp-widgets-color: white;\n",
       "                    --jp-widgets-label-color: white;\n",
       "                    --jp-ui-font-color1: white;\n",
       "                    --jp-layout-color2: #454545;\n",
       "                    background-color: #383838;\n",
       "                }\n",
       "                    \n",
       "                .geemap-dark .jupyter-button {\n",
       "                    --jp-layout-color3: #383838;\n",
       "                }\n",
       "                \n",
       "                .geemap-colab {\n",
       "                    background-color: var(--colab-primary-surface-color, white);\n",
       "                }\n",
       "                    \n",
       "                .geemap-colab .jupyter-button {\n",
       "                    --jp-layout-color3: var(--colab-primary-surface-color, white);\n",
       "                }\n",
       "            </style>\n",
       "            "
      ],
      "text/plain": [
       "<IPython.core.display.HTML object>"
      ]
     },
     "metadata": {},
     "output_type": "display_data"
    },
    {
     "data": {
      "application/vnd.jupyter.widget-view+json": {
       "model_id": "ef638135c3c74f02add6cb854435c100",
       "version_major": 2,
       "version_minor": 0
      },
      "text/plain": [
       "Map(center=[18.516726, 73.856255], controls=(ZoomControl(options=['position', 'zoom_in_text', 'zoom_in_title',…"
      ]
     },
     "metadata": {},
     "output_type": "display_data"
    }
   ],
   "source": [
    "visualization = {\n",
    "    'bands': ['SR_B4', 'SR_B3', 'SR_B2'],\n",
    "    'min': 0.0,\n",
    "    'max': 0.3,\n",
    "}\n",
    "\n",
    "m = geemap.Map(center=[18.516726,73.856255],zoom=11)\n",
    "m.add_layer(Image_collection.first(), visualization, 'True Color (432)')\n",
    "m"
   ]
  }
 ],
 "metadata": {
  "kernelspec": {
   "display_name": "Python 3 (ipykernel)",
   "language": "python",
   "name": "python3"
  },
  "language_info": {
   "codemirror_mode": {
    "name": "ipython",
    "version": 3
   },
   "file_extension": ".py",
   "mimetype": "text/x-python",
   "name": "python",
   "nbconvert_exporter": "python",
   "pygments_lexer": "ipython3",
   "version": "3.9.12"
  }
 },
 "nbformat": 4,
 "nbformat_minor": 5
}
